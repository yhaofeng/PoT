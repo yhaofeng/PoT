{
 "cells": [
  {
   "cell_type": "code",
   "execution_count": 1,
   "metadata": {},
   "outputs": [
    {
     "name": "stderr",
     "output_type": "stream",
     "text": [
      "\n",
      "Bad key \"text.kerning_factor\" on line 4 in\n",
      "D:\\ProgramData\\Anaconda3\\lib\\site-packages\\matplotlib\\mpl-data\\stylelib\\_classic_test_patch.mplstyle.\n",
      "You probably need to get an updated matplotlibrc file from\n",
      "https://github.com/matplotlib/matplotlib/blob/v3.1.3/matplotlibrc.template\n",
      "or from the matplotlib source distribution\n"
     ]
    }
   ],
   "source": [
    "import numpy as np\n",
    "import pandas as pd\n",
    "from datetime import datetime\n",
    "import warnings\n",
    "warnings.filterwarnings(\"ignore\")\n",
    "import matplotlib.pyplot as plt"
   ]
  },
  {
   "cell_type": "code",
   "execution_count": 3,
   "metadata": {},
   "outputs": [
    {
     "data": {
      "text/html": [
       "<div>\n",
       "<style scoped>\n",
       "    .dataframe tbody tr th:only-of-type {\n",
       "        vertical-align: middle;\n",
       "    }\n",
       "\n",
       "    .dataframe tbody tr th {\n",
       "        vertical-align: top;\n",
       "    }\n",
       "\n",
       "    .dataframe thead th {\n",
       "        text-align: right;\n",
       "    }\n",
       "</style>\n",
       "<table border=\"1\" class=\"dataframe\">\n",
       "  <thead>\n",
       "    <tr style=\"text-align: right;\">\n",
       "      <th></th>\n",
       "      <th>Date</th>\n",
       "      <th>btc</th>\n",
       "      <th>ltc</th>\n",
       "      <th>eth</th>\n",
       "      <th>time</th>\n",
       "    </tr>\n",
       "  </thead>\n",
       "  <tbody>\n",
       "    <tr>\n",
       "      <th>0</th>\n",
       "      <td>2018/10/29 12:00</td>\n",
       "      <td>0.000000</td>\n",
       "      <td>0.009054</td>\n",
       "      <td>0.001974</td>\n",
       "      <td>310</td>\n",
       "    </tr>\n",
       "    <tr>\n",
       "      <th>1</th>\n",
       "      <td>2018/11/14 15:00</td>\n",
       "      <td>0.000000</td>\n",
       "      <td>0.000000</td>\n",
       "      <td>0.022685</td>\n",
       "      <td>697</td>\n",
       "    </tr>\n",
       "    <tr>\n",
       "      <th>2</th>\n",
       "      <td>2018/11/14 16:00</td>\n",
       "      <td>0.040175</td>\n",
       "      <td>0.058658</td>\n",
       "      <td>0.000000</td>\n",
       "      <td>698</td>\n",
       "    </tr>\n",
       "    <tr>\n",
       "      <th>3</th>\n",
       "      <td>2018/11/14 18:00</td>\n",
       "      <td>0.000000</td>\n",
       "      <td>0.000000</td>\n",
       "      <td>0.001335</td>\n",
       "      <td>700</td>\n",
       "    </tr>\n",
       "    <tr>\n",
       "      <th>4</th>\n",
       "      <td>2018/11/14 20:00</td>\n",
       "      <td>0.000000</td>\n",
       "      <td>0.006188</td>\n",
       "      <td>0.000000</td>\n",
       "      <td>702</td>\n",
       "    </tr>\n",
       "  </tbody>\n",
       "</table>\n",
       "</div>"
      ],
      "text/plain": [
       "               Date       btc       ltc       eth  time\n",
       "0  2018/10/29 12:00  0.000000  0.009054  0.001974   310\n",
       "1  2018/11/14 15:00  0.000000  0.000000  0.022685   697\n",
       "2  2018/11/14 16:00  0.040175  0.058658  0.000000   698\n",
       "3  2018/11/14 18:00  0.000000  0.000000  0.001335   700\n",
       "4  2018/11/14 20:00  0.000000  0.006188  0.000000   702"
      ]
     },
     "execution_count": 3,
     "metadata": {},
     "output_type": "execute_result"
    }
   ],
   "source": [
    "data = pd.read_csv('data.csv')\n",
    "data.head()"
   ]
  },
  {
   "cell_type": "code",
   "execution_count": 4,
   "metadata": {},
   "outputs": [
    {
     "data": {
      "text/html": [
       "<div>\n",
       "<style scoped>\n",
       "    .dataframe tbody tr th:only-of-type {\n",
       "        vertical-align: middle;\n",
       "    }\n",
       "\n",
       "    .dataframe tbody tr th {\n",
       "        vertical-align: top;\n",
       "    }\n",
       "\n",
       "    .dataframe thead th {\n",
       "        text-align: right;\n",
       "    }\n",
       "</style>\n",
       "<table border=\"1\" class=\"dataframe\">\n",
       "  <thead>\n",
       "    <tr style=\"text-align: right;\">\n",
       "      <th></th>\n",
       "      <th>time</th>\n",
       "      <th>ltc</th>\n",
       "    </tr>\n",
       "  </thead>\n",
       "  <tbody>\n",
       "    <tr>\n",
       "      <th>0</th>\n",
       "      <td>310</td>\n",
       "      <td>0.009054</td>\n",
       "    </tr>\n",
       "    <tr>\n",
       "      <th>2</th>\n",
       "      <td>698</td>\n",
       "      <td>0.058658</td>\n",
       "    </tr>\n",
       "    <tr>\n",
       "      <th>4</th>\n",
       "      <td>702</td>\n",
       "      <td>0.006188</td>\n",
       "    </tr>\n",
       "    <tr>\n",
       "      <th>6</th>\n",
       "      <td>720</td>\n",
       "      <td>0.024334</td>\n",
       "    </tr>\n",
       "    <tr>\n",
       "      <th>7</th>\n",
       "      <td>810</td>\n",
       "      <td>0.005327</td>\n",
       "    </tr>\n",
       "  </tbody>\n",
       "</table>\n",
       "</div>"
      ],
      "text/plain": [
       "   time       ltc\n",
       "0   310  0.009054\n",
       "2   698  0.058658\n",
       "4   702  0.006188\n",
       "6   720  0.024334\n",
       "7   810  0.005327"
      ]
     },
     "execution_count": 4,
     "metadata": {},
     "output_type": "execute_result"
    }
   ],
   "source": [
    "ltc_threshold = data[data['ltc']>0][['time','ltc']]\n",
    "ltc_threshold.head()"
   ]
  },
  {
   "cell_type": "code",
   "execution_count": 5,
   "metadata": {},
   "outputs": [
    {
     "data": {
      "text/html": [
       "<div>\n",
       "<style scoped>\n",
       "    .dataframe tbody tr th:only-of-type {\n",
       "        vertical-align: middle;\n",
       "    }\n",
       "\n",
       "    .dataframe tbody tr th {\n",
       "        vertical-align: top;\n",
       "    }\n",
       "\n",
       "    .dataframe thead th {\n",
       "        text-align: right;\n",
       "    }\n",
       "</style>\n",
       "<table border=\"1\" class=\"dataframe\">\n",
       "  <thead>\n",
       "    <tr style=\"text-align: right;\">\n",
       "      <th></th>\n",
       "      <th>time</th>\n",
       "      <th>btc</th>\n",
       "    </tr>\n",
       "  </thead>\n",
       "  <tbody>\n",
       "    <tr>\n",
       "      <th>2</th>\n",
       "      <td>698</td>\n",
       "      <td>0.040175</td>\n",
       "    </tr>\n",
       "    <tr>\n",
       "      <th>5</th>\n",
       "      <td>716</td>\n",
       "      <td>0.004979</td>\n",
       "    </tr>\n",
       "    <tr>\n",
       "      <th>6</th>\n",
       "      <td>720</td>\n",
       "      <td>0.010827</td>\n",
       "    </tr>\n",
       "    <tr>\n",
       "      <th>8</th>\n",
       "      <td>830</td>\n",
       "      <td>0.009715</td>\n",
       "    </tr>\n",
       "    <tr>\n",
       "      <th>9</th>\n",
       "      <td>834</td>\n",
       "      <td>0.030198</td>\n",
       "    </tr>\n",
       "  </tbody>\n",
       "</table>\n",
       "</div>"
      ],
      "text/plain": [
       "   time       btc\n",
       "2   698  0.040175\n",
       "5   716  0.004979\n",
       "6   720  0.010827\n",
       "8   830  0.009715\n",
       "9   834  0.030198"
      ]
     },
     "execution_count": 5,
     "metadata": {},
     "output_type": "execute_result"
    }
   ],
   "source": [
    "btc_threshold = data[data['btc']>0][['time','btc']]\n",
    "btc_threshold.head()"
   ]
  },
  {
   "cell_type": "code",
   "execution_count": 6,
   "metadata": {},
   "outputs": [
    {
     "data": {
      "text/html": [
       "<div>\n",
       "<style scoped>\n",
       "    .dataframe tbody tr th:only-of-type {\n",
       "        vertical-align: middle;\n",
       "    }\n",
       "\n",
       "    .dataframe tbody tr th {\n",
       "        vertical-align: top;\n",
       "    }\n",
       "\n",
       "    .dataframe thead th {\n",
       "        text-align: right;\n",
       "    }\n",
       "</style>\n",
       "<table border=\"1\" class=\"dataframe\">\n",
       "  <thead>\n",
       "    <tr style=\"text-align: right;\">\n",
       "      <th></th>\n",
       "      <th>time</th>\n",
       "      <th>eth</th>\n",
       "    </tr>\n",
       "  </thead>\n",
       "  <tbody>\n",
       "    <tr>\n",
       "      <th>0</th>\n",
       "      <td>310</td>\n",
       "      <td>0.001974</td>\n",
       "    </tr>\n",
       "    <tr>\n",
       "      <th>1</th>\n",
       "      <td>697</td>\n",
       "      <td>0.022685</td>\n",
       "    </tr>\n",
       "    <tr>\n",
       "      <th>3</th>\n",
       "      <td>700</td>\n",
       "      <td>0.001335</td>\n",
       "    </tr>\n",
       "    <tr>\n",
       "      <th>6</th>\n",
       "      <td>720</td>\n",
       "      <td>0.013042</td>\n",
       "    </tr>\n",
       "    <tr>\n",
       "      <th>7</th>\n",
       "      <td>810</td>\n",
       "      <td>0.001392</td>\n",
       "    </tr>\n",
       "  </tbody>\n",
       "</table>\n",
       "</div>"
      ],
      "text/plain": [
       "   time       eth\n",
       "0   310  0.001974\n",
       "1   697  0.022685\n",
       "3   700  0.001335\n",
       "6   720  0.013042\n",
       "7   810  0.001392"
      ]
     },
     "execution_count": 6,
     "metadata": {},
     "output_type": "execute_result"
    }
   ],
   "source": [
    "eth_threshold = data[data['eth']>0][['time','eth']]\n",
    "eth_threshold.head()"
   ]
  },
  {
   "cell_type": "code",
   "execution_count": 7,
   "metadata": {},
   "outputs": [],
   "source": [
    "import scipy.stats as st\n",
    "import statsmodels.api as sm"
   ]
  },
  {
   "cell_type": "markdown",
   "metadata": {},
   "source": [
    "## 自激点过程\n",
    "条件密度可以表示为：\n",
    "$\\tau(t)=\\tau+\\psi \\int_{-\\infty}^{t} c\\left(\\tilde{X}_{s}\\right) g(t-s) d N(s), \\quad \\tau>0, \\psi \\geq 0$\n",
    "\n",
    "其中，$c(\\cdot)$为impact函数，$g(\\cdot)$为decay函数。$c(x)=1+G^{\\leftarrow}(F(x))=1-\\frac{1}{\\delta}\\ln(1-\\delta F(x))$,$F(x)=1-(1+\\xi\\frac{x-u}{\\beta+\\alpha v(t)})^{-1/\\xi}$,$g1(t)=e^{-\\gamma t}$,$g2(t)=\\frac{1}{(t+\\gamma)^{1+\\rho}}$"
   ]
  },
  {
   "cell_type": "code",
   "execution_count": 8,
   "metadata": {},
   "outputs": [],
   "source": [
    "def g(t,gamma):\n",
    "    '''\n",
    "    gamma:参数\n",
    "    t:array数据类型\n",
    "    '''\n",
    "    return np.exp(-gamma*t)"
   ]
  },
  {
   "cell_type": "markdown",
   "metadata": {},
   "source": [
    "定义$\\tau$函数"
   ]
  },
  {
   "cell_type": "code",
   "execution_count": null,
   "metadata": {},
   "outputs": [],
   "source": [
    "def tau(tau_0,t,psi,delta,gammma,df):\n",
    "    return tau_0 + psi*V(t,delta,gamma,df)"
   ]
  },
  {
   "cell_type": "markdown",
   "metadata": {},
   "source": [
    "# 画出$\\tau$"
   ]
  },
  {
   "cell_type": "code",
   "execution_count": 172,
   "metadata": {},
   "outputs": [],
   "source": [
    "def plot_tau(delta,gamma,series):\n",
    "    start_time = np.min(series.index)\n",
    "    time = np.arange(start_time,T,step=10)\n",
    "    v = [V(t,delta,gamma,series) for t in time]\n",
    "    plt.plot(time,v)\n",
    "    plt.show()"
   ]
  },
  {
   "cell_type": "code",
   "execution_count": 195,
   "metadata": {},
   "outputs": [],
   "source": [
    "def plot_g(gamma,series):\n",
    "    start_time = np.min(series.index)\n",
    "    time = np.arange(start_time,T,step=50)\n",
    "    v = [V_sum(t,gamma,series) for t in time]\n",
    "    plt.figure(figsize=(20,8))\n",
    "    plt.plot(time,v)\n",
    "    plt.show()"
   ]
  },
  {
   "cell_type": "code",
   "execution_count": 196,
   "metadata": {},
   "outputs": [
    {
     "data": {
      "image/png": "[encoded data removed]",
      "text/plain": [
       "<Figure size 1440x576 with 1 Axes>"
      ]
     },
     "metadata": {
      "needs_background": "light"
     },
     "output_type": "display_data"
    }
   ],
   "source": [
    "plot_g(0.8,eth_data)"
   ]
  },
  {
   "cell_type": "markdown",
   "metadata": {},
   "source": [
    "## 似然函数如下所示：\n",
    "$$\n",
    "L=\\exp \\left(-\\mathrm{T} \\tau-\\psi \\int_{0}^{T} v(s) d s\\right) \\prod_{j=1}^{N} \\lambda\\left(T_{j}, \\tilde{X}_{j}\\right)\n",
    "$$\n",
    "其中，$\\int_{0}^{T} v(s) d s=\\int_{0}^{T} \\sum_{j: 0<T_{j}<s} e^{-\\gamma\\left(s-T_{j}\\right)} e^{\\delta X_{T_j}}  d s$\n",
    "$=\\frac{1}{\\gamma} \\sum_{k=1}^{N}\\left[\\left(e^{-\\gamma T_{k}}-e^{-\\gamma T_{k+1}}\\right) \\sum_{j=1}^{k} e^{\\gamma T_{j}} \\times e^{\\delta X_{T_j}} \\right]$\n",
    "而\n",
    "$\\lambda_{i}\\left(t, x_{i}\\right)=\\frac{\\tau_{i}+\\psi_{i} v_{i}^{*}(t)}{\\beta_{i}+\\alpha_{i} v_{i}^{*}(t)}\\left(1+\\xi_{i} \\frac{x_{i}}{\\beta_{i}+\\alpha_{i} v_{i}^{*}(t)}\\right)^{-1 / \\xi_{i}-1}$\n",
    "\n",
    "下面先给出$\\lambda$函数，在给出积分函数"
   ]
  },
  {
   "cell_type": "code",
   "execution_count": 9,
   "metadata": {},
   "outputs": [],
   "source": [
    "def log_likelihood(tau0,psi,alpha,beta,xi,gamma,delta,T,df,col_name):\n",
    "    n = len(df)\n",
    "    max_t  = df['time'].max()\n",
    "    df.index = np.arange(n)\n",
    "    df['c'] = np.zeros(n)\n",
    "    df['v'] = np.zeros(n)\n",
    "    df['F'] = np.zeros(n)\n",
    "    df['int_v'] = np.zeros(n)\n",
    "    for i in range(n):\n",
    "        df['F'][i] = 1-(1+xi*df[col_name][i]/(beta+alpha*df['v'][i]))**(-1/xi)\n",
    "        df['c'][i] = 1-delta*np.log(1-df['F'][i])\n",
    "        if i == 0:\n",
    "            df['int_v'][i] = tau0 * df['time'][i]\n",
    "        else:\n",
    "            t1 = df['time'][i]-df['time'][i-1]\n",
    "            t2 = (df['time'][i]-df['time'][:i]).apply(g,args=(gamma,))\n",
    "            t3 = (df['time'][i-1]-df['time'][:i]).apply(g,args=(gamma,))\n",
    "            sums = (df['c'][:i] * (t3-t2)).sum()\n",
    "            df['int_v'][i] = tau0 * (t1) + psi / gamma * sums\n",
    "        if i+1 != n:\n",
    "            t = (df['time'][i+1]-df['time'][:i+1]).apply(g,args=(gamma,))\n",
    "            df['v'][i+1] = (df['c'][:i+1]*t).sum()\n",
    "    df['lambda'] = (tau0+psi*df['v'])/(beta+alpha*df['v'])*(1+xi*df[col_name]/(beta+alpha*df['v']))**(-1/xi-1)\n",
    "    df['m'] = 1/xi*np.log(1+df[col_name]/(beta+alpha*df['v']))\n",
    "    df_new = pd.DataFrame({'time':[T]})\n",
    "    df = pd.concat([df,df_new],ignore_index=True)\n",
    "    T1 = (df['time'].iloc[-1]-df['time'][:-1]).apply(g,args=(gamma,))\n",
    "    T2 = (df['time'].iloc[-2]-df['time'][:-1]).apply(g,args=(gamma,))\n",
    "    sums = (df['c'][:-1] * (T2-T1)).sum()\n",
    "    df['int_v'].iloc[-1] = tau0 * (T-max_t) + psi / gamma * sums\n",
    "    l = np.log(df['lambda']).sum()\n",
    "    l = l-T*tau0-psi*df['int_v'].sum()/gamma\n",
    "    return l,df"
   ]
  },
  {
   "cell_type": "markdown",
   "metadata": {},
   "source": [
    "## 通过粒子群算法求解似然函数参数\n",
    "模型的参数包括：$\\tau$,$\\psi$,$\\alpha$,$\\beta$,$\\xi$,$\\gamma$,$\\delta$\n",
    "\n",
    "下面为相应代码"
   ]
  },
  {
   "cell_type": "code",
   "execution_count": 12,
   "metadata": {},
   "outputs": [],
   "source": [
    "def pso(nums,iteration,bound,T,df,col_name):\n",
    "    \"\"\"\n",
    "    nums:初始化粒子位置，为m*n的Arrays,其中m为粒子个数，n为粒子特征数\n",
    "    bound:参数的上下限\n",
    "    T:\n",
    "    df:数据\n",
    "    \"\"\"\n",
    "    m,n = nums.shape # 初始化m个粒子，其中n为粒子位置维度\n",
    "    #初始化速度\n",
    "    v = np.random.randn(m,n)\n",
    "    fitness = np.zeros(m)\n",
    "    for i in range(m):\n",
    "        fitness[i] = log_likelihood(nums[i,0],nums[i,1],nums[i,2],nums[i,3],nums[i,4],nums[i,5],nums[i,6],T,df,col_name)[0]\n",
    "    c1 = c2 = 2\n",
    "    p = nums\n",
    "    pg = nums[np.argmax(fitness)]\n",
    "    individual_best_fitness = fitness\n",
    "    global_best_fitness = np.max(fitness)\n",
    "\n",
    "    for step in range(iteration):\n",
    "        r1 = np.random.rand(m, n)\n",
    "        r2 = np.random.rand(m, n)\n",
    "        # 更新速度和权重\n",
    "        v = 0.6*v+c1*r1*(p-nums)+c2*r2*(pg-nums)\n",
    "        nums = v + nums\n",
    "        for i in range(m):\n",
    "            for j in range(n):\n",
    "                if nums[i,j] < bound[j][0]:\n",
    "                    nums[i,j] = bound[j][0]\n",
    "                elif nums[i,j] > bound[j][1]:\n",
    "                    nums[i,j] = bound[j][1]\n",
    "        for i in range(m):\n",
    "            fitness[i] = log_likelihood(nums[i,0],nums[i,1],nums[i,2],nums[i,3],nums[i,4],nums[i,5],nums[i,6],T,df,col_name)[0]\n",
    "        # 需要更新的个体\n",
    "        update_id = np.less(individual_best_fitness, fitness)\n",
    "        p[update_id] = nums[update_id]\n",
    "        individual_best_fitness[update_id] = fitness[update_id]\n",
    "        # 新一代出现了更小的fitness，所以更新全局最优fitness和位置\n",
    "        if np.max(fitness) > global_best_fitness:\n",
    "            pg = nums[np.argmax(fitness)]\n",
    "            global_best_fitness = np.max(fitness)\n",
    "    return nums"
   ]
  },
  {
   "cell_type": "code",
   "execution_count": 10,
   "metadata": {},
   "outputs": [],
   "source": [
    "#likelihood(tau0,psi,alpha,beta,xi,gamma,delta,T,df)\n",
    "m = 150\n",
    "n = 7\n",
    "bound = np.ones([n,2])*1\n",
    "for i in range(7):\n",
    "    bound[i][0] = 0.0001"
   ]
  },
  {
   "cell_type": "code",
   "execution_count": 11,
   "metadata": {},
   "outputs": [
    {
     "data": {
      "text/plain": [
       "array([[1.e-04, 1.e+00],\n",
       "       [1.e-04, 1.e+00],\n",
       "       [1.e-04, 1.e+00],\n",
       "       [1.e-04, 1.e+00],\n",
       "       [1.e-04, 1.e+00],\n",
       "       [1.e-04, 1.e+00],\n",
       "       [1.e-04, 1.e+00]])"
      ]
     },
     "execution_count": 11,
     "metadata": {},
     "output_type": "execute_result"
    }
   ],
   "source": [
    "bound"
   ]
  },
  {
   "cell_type": "code",
   "execution_count": 12,
   "metadata": {},
   "outputs": [
    {
     "data": {
      "text/plain": [
       "array([[0.95885389, 0.87020721, 0.38313938, ..., 0.15029677, 0.05504265,\n",
       "        0.73383156],\n",
       "       [0.17934287, 0.11124178, 0.81719441, ..., 0.65189516, 0.17896307,\n",
       "        0.49158444],\n",
       "       [0.45330151, 0.48323493, 0.75592722, ..., 0.70983875, 0.88789177,\n",
       "        0.37564109],\n",
       "       ...,\n",
       "       [0.70354665, 0.39600766, 0.2456147 , ..., 0.18462615, 0.08114999,\n",
       "        0.47521896],\n",
       "       [0.79559581, 0.19476568, 0.73123155, ..., 0.28600008, 0.03840829,\n",
       "        0.6047891 ],\n",
       "       [0.23092529, 0.22938727, 0.98457415, ..., 0.77213521, 0.55928206,\n",
       "        0.60068493]])"
      ]
     },
     "execution_count": 12,
     "metadata": {},
     "output_type": "execute_result"
    }
   ],
   "source": [
    "nums = 0.9999 * np.random.rand(m,n) + 0.0001\n",
    "nums"
   ]
  },
  {
   "cell_type": "code",
   "execution_count": 13,
   "metadata": {},
   "outputs": [
    {
     "data": {
      "text/plain": [
       "13350"
      ]
     },
     "execution_count": 13,
     "metadata": {},
     "output_type": "execute_result"
    }
   ],
   "source": [
    "T = 13350\n",
    "T"
   ]
  },
  {
   "cell_type": "code",
   "execution_count": 14,
   "metadata": {},
   "outputs": [
    {
     "name": "stdout",
     "output_type": "stream",
     "text": [
      "0:01:20.303766\n"
     ]
    }
   ],
   "source": [
    "t1 = datetime.now()\n",
    "fitness = np.zeros(m)\n",
    "for i in range(m):\n",
    "    fitness[i] = log_likelihood(tau0=nums[i,0],psi=nums[i,1],alpha=nums[i,2],beta=nums[i,3],xi=nums[i,4],gamma=nums[i,5],delta=nums[i,6],\n",
    "                                T=T,df=eth_threshold,col_name='eth')[0]\n",
    "t2 = datetime.now()\n",
    "print(t2-t1)"
   ]
  },
  {
   "cell_type": "code",
   "execution_count": 18,
   "metadata": {},
   "outputs": [],
   "source": [
    "import warnings\n",
    "warnings.filterwarnings(\"ignore\")\n",
    "results = pso(nums,iteration=500,bound=bound,T=T,df=eth_threshold,col_name='eth')"
   ]
  },
  {
   "cell_type": "code",
   "execution_count": 19,
   "metadata": {},
   "outputs": [],
   "source": [
    "fitness = np.zeros(m)\n",
    "for i in range(m):\n",
    "    fitness[i] = log_likelihood(results[i,0],results[i,1],results[i,2],results[i,3],results[i,4],results[i,5],results[i,6],T,eth_threshold,'eth')[0]"
   ]
  },
  {
   "cell_type": "code",
   "execution_count": 20,
   "metadata": {},
   "outputs": [],
   "source": [
    "pg = results[np.argmax(fitness)]"
   ]
  },
  {
   "cell_type": "code",
   "execution_count": 21,
   "metadata": {},
   "outputs": [
    {
     "data": {
      "text/plain": [
       "array([1.00000000e-04, 5.66637936e-01, 5.31988134e-01, 2.52864262e-02,\n",
       "       2.56091351e-01, 6.66704897e-01, 6.99029423e-01])"
      ]
     },
     "execution_count": 21,
     "metadata": {},
     "output_type": "execute_result"
    }
   ],
   "source": [
    "pg"
   ]
  },
  {
   "cell_type": "code",
   "execution_count": 22,
   "metadata": {},
   "outputs": [
    {
     "data": {
      "text/plain": [
       "-609.6795921241558"
      ]
     },
     "execution_count": 22,
     "metadata": {},
     "output_type": "execute_result"
    }
   ],
   "source": [
    "fitness.max()"
   ]
  },
  {
   "cell_type": "code",
   "execution_count": 24,
   "metadata": {},
   "outputs": [],
   "source": [
    "df = log_likelihood(pg[0],pg[1],pg[2],pg[3],pg[4],pg[5],pg[6],T,eth_threshold,'eth')[1]"
   ]
  },
  {
   "cell_type": "code",
   "execution_count": 30,
   "metadata": {},
   "outputs": [
    {
     "data": {
      "text/html": [
       "<div>\n",
       "<style scoped>\n",
       "    .dataframe tbody tr th:only-of-type {\n",
       "        vertical-align: middle;\n",
       "    }\n",
       "\n",
       "    .dataframe tbody tr th {\n",
       "        vertical-align: top;\n",
       "    }\n",
       "\n",
       "    .dataframe thead th {\n",
       "        text-align: right;\n",
       "    }\n",
       "</style>\n",
       "<table border=\"1\" class=\"dataframe\">\n",
       "  <thead>\n",
       "    <tr style=\"text-align: right;\">\n",
       "      <th></th>\n",
       "      <th>time</th>\n",
       "      <th>eth</th>\n",
       "      <th>c</th>\n",
       "      <th>v</th>\n",
       "      <th>F</th>\n",
       "      <th>lambda</th>\n",
       "      <th>g</th>\n",
       "      <th>rg</th>\n",
       "      <th>g_diff</th>\n",
       "      <th>sum1</th>\n",
       "      <th>sum2</th>\n",
       "      <th>m</th>\n",
       "    </tr>\n",
       "  </thead>\n",
       "  <tbody>\n",
       "    <tr>\n",
       "      <th>0</th>\n",
       "      <td>310</td>\n",
       "      <td>0.001974</td>\n",
       "      <td>1.054025</td>\n",
       "      <td>0.000000e+00</td>\n",
       "      <td>0.074374</td>\n",
       "      <td>0.003589</td>\n",
       "      <td>1.740444e-90</td>\n",
       "      <td>5.745661e+89</td>\n",
       "      <td>1.740444e-90</td>\n",
       "      <td>6.056068e+89</td>\n",
       "      <td>1.054025</td>\n",
       "      <td>0.293484</td>\n",
       "    </tr>\n",
       "    <tr>\n",
       "      <th>1</th>\n",
       "      <td>697</td>\n",
       "      <td>0.022685</td>\n",
       "      <td>1.564504</td>\n",
       "      <td>9.299272e-113</td>\n",
       "      <td>0.554053</td>\n",
       "      <td>0.001434</td>\n",
       "      <td>1.535530e-202</td>\n",
       "      <td>6.512411e+201</td>\n",
       "      <td>1.327742e-202</td>\n",
       "      <td>1.018870e+202</td>\n",
       "      <td>1.352796</td>\n",
       "      <td>2.500436</td>\n",
       "    </tr>\n",
       "    <tr>\n",
       "      <th>2</th>\n",
       "      <td>700</td>\n",
       "      <td>0.001335</td>\n",
       "      <td>1.006758</td>\n",
       "      <td>2.117084e-01</td>\n",
       "      <td>0.009621</td>\n",
       "      <td>0.860057</td>\n",
       "      <td>2.077875e-203</td>\n",
       "      <td>4.812609e+202</td>\n",
       "      <td>2.077872e-203</td>\n",
       "      <td>5.864003e+202</td>\n",
       "      <td>1.218465</td>\n",
       "      <td>0.037617</td>\n",
       "    </tr>\n",
       "    <tr>\n",
       "      <th>3</th>\n",
       "      <td>720</td>\n",
       "      <td>0.013042</td>\n",
       "      <td>1.338627</td>\n",
       "      <td>1.971916e-06</td>\n",
       "      <td>0.383948</td>\n",
       "      <td>0.002176</td>\n",
       "      <td>3.362747e-209</td>\n",
       "      <td>2.973759e+208</td>\n",
       "      <td>3.362747e-209</td>\n",
       "      <td>3.980759e+208</td>\n",
       "      <td>1.338629</td>\n",
       "      <td>1.624081</td>\n",
       "    </tr>\n",
       "    <tr>\n",
       "      <th>4</th>\n",
       "      <td>810</td>\n",
       "      <td>0.001392</td>\n",
       "      <td>1.038205</td>\n",
       "      <td>1.168145e-26</td>\n",
       "      <td>0.053188</td>\n",
       "      <td>0.003692</td>\n",
       "      <td>2.934479e-235</td>\n",
       "      <td>3.407760e+234</td>\n",
       "      <td>2.934479e-235</td>\n",
       "      <td>3.537953e+234</td>\n",
       "      <td>1.038205</td>\n",
       "      <td>0.209212</td>\n",
       "    </tr>\n",
       "    <tr>\n",
       "      <th>...</th>\n",
       "      <td>...</td>\n",
       "      <td>...</td>\n",
       "      <td>...</td>\n",
       "      <td>...</td>\n",
       "      <td>...</td>\n",
       "      <td>...</td>\n",
       "      <td>...</td>\n",
       "      <td>...</td>\n",
       "      <td>...</td>\n",
       "      <td>...</td>\n",
       "      <td>...</td>\n",
       "      <td>...</td>\n",
       "    </tr>\n",
       "    <tr>\n",
       "      <th>130</th>\n",
       "      <td>12938</td>\n",
       "      <td>0.001258</td>\n",
       "      <td>1.034567</td>\n",
       "      <td>5.364414e-36</td>\n",
       "      <td>0.048247</td>\n",
       "      <td>0.003717</td>\n",
       "      <td>0.000000e+00</td>\n",
       "      <td>inf</td>\n",
       "      <td>0.000000e+00</td>\n",
       "      <td>inf</td>\n",
       "      <td>NaN</td>\n",
       "      <td>0.189641</td>\n",
       "    </tr>\n",
       "    <tr>\n",
       "      <th>131</th>\n",
       "      <td>13062</td>\n",
       "      <td>0.002910</td>\n",
       "      <td>1.079282</td>\n",
       "      <td>1.291286e-36</td>\n",
       "      <td>0.107222</td>\n",
       "      <td>0.003430</td>\n",
       "      <td>0.000000e+00</td>\n",
       "      <td>inf</td>\n",
       "      <td>0.000000e+00</td>\n",
       "      <td>inf</td>\n",
       "      <td>NaN</td>\n",
       "      <td>0.425342</td>\n",
       "    </tr>\n",
       "    <tr>\n",
       "      <th>132</th>\n",
       "      <td>13211</td>\n",
       "      <td>0.000536</td>\n",
       "      <td>1.014767</td>\n",
       "      <td>7.775752e-44</td>\n",
       "      <td>0.020904</td>\n",
       "      <td>0.003851</td>\n",
       "      <td>0.000000e+00</td>\n",
       "      <td>inf</td>\n",
       "      <td>0.000000e+00</td>\n",
       "      <td>inf</td>\n",
       "      <td>NaN</td>\n",
       "      <td>0.081852</td>\n",
       "    </tr>\n",
       "    <tr>\n",
       "      <th>133</th>\n",
       "      <td>13249</td>\n",
       "      <td>0.008998</td>\n",
       "      <td>1.238050</td>\n",
       "      <td>1.008344e-11</td>\n",
       "      <td>0.288617</td>\n",
       "      <td>0.002578</td>\n",
       "      <td>0.000000e+00</td>\n",
       "      <td>inf</td>\n",
       "      <td>0.000000e+00</td>\n",
       "      <td>inf</td>\n",
       "      <td>NaN</td>\n",
       "      <td>1.188707</td>\n",
       "    </tr>\n",
       "    <tr>\n",
       "      <th>134</th>\n",
       "      <td>13249</td>\n",
       "      <td>NaN</td>\n",
       "      <td>NaN</td>\n",
       "      <td>NaN</td>\n",
       "      <td>NaN</td>\n",
       "      <td>NaN</td>\n",
       "      <td>0.000000e+00</td>\n",
       "      <td>inf</td>\n",
       "      <td>NaN</td>\n",
       "      <td>NaN</td>\n",
       "      <td>NaN</td>\n",
       "      <td>NaN</td>\n",
       "    </tr>\n",
       "  </tbody>\n",
       "</table>\n",
       "<p>135 rows × 12 columns</p>\n",
       "</div>"
      ],
      "text/plain": [
       "      time       eth         c              v         F    lambda  \\\n",
       "0      310  0.001974  1.054025   0.000000e+00  0.074374  0.003589   \n",
       "1      697  0.022685  1.564504  9.299272e-113  0.554053  0.001434   \n",
       "2      700  0.001335  1.006758   2.117084e-01  0.009621  0.860057   \n",
       "3      720  0.013042  1.338627   1.971916e-06  0.383948  0.002176   \n",
       "4      810  0.001392  1.038205   1.168145e-26  0.053188  0.003692   \n",
       "..     ...       ...       ...            ...       ...       ...   \n",
       "130  12938  0.001258  1.034567   5.364414e-36  0.048247  0.003717   \n",
       "131  13062  0.002910  1.079282   1.291286e-36  0.107222  0.003430   \n",
       "132  13211  0.000536  1.014767   7.775752e-44  0.020904  0.003851   \n",
       "133  13249  0.008998  1.238050   1.008344e-11  0.288617  0.002578   \n",
       "134  13249       NaN       NaN            NaN       NaN       NaN   \n",
       "\n",
       "                 g             rg         g_diff           sum1      sum2  \\\n",
       "0     1.740444e-90   5.745661e+89   1.740444e-90   6.056068e+89  1.054025   \n",
       "1    1.535530e-202  6.512411e+201  1.327742e-202  1.018870e+202  1.352796   \n",
       "2    2.077875e-203  4.812609e+202  2.077872e-203  5.864003e+202  1.218465   \n",
       "3    3.362747e-209  2.973759e+208  3.362747e-209  3.980759e+208  1.338629   \n",
       "4    2.934479e-235  3.407760e+234  2.934479e-235  3.537953e+234  1.038205   \n",
       "..             ...            ...            ...            ...       ...   \n",
       "130   0.000000e+00            inf   0.000000e+00            inf       NaN   \n",
       "131   0.000000e+00            inf   0.000000e+00            inf       NaN   \n",
       "132   0.000000e+00            inf   0.000000e+00            inf       NaN   \n",
       "133   0.000000e+00            inf   0.000000e+00            inf       NaN   \n",
       "134   0.000000e+00            inf            NaN            NaN       NaN   \n",
       "\n",
       "            m  \n",
       "0    0.293484  \n",
       "1    2.500436  \n",
       "2    0.037617  \n",
       "3    1.624081  \n",
       "4    0.209212  \n",
       "..        ...  \n",
       "130  0.189641  \n",
       "131  0.425342  \n",
       "132  0.081852  \n",
       "133  1.188707  \n",
       "134       NaN  \n",
       "\n",
       "[135 rows x 12 columns]"
      ]
     },
     "execution_count": 30,
     "metadata": {},
     "output_type": "execute_result"
    }
   ],
   "source": [
    "df"
   ]
  },
  {
   "cell_type": "code",
   "execution_count": 108,
   "metadata": {},
   "outputs": [],
   "source": [
    "np.save('nums',results)"
   ]
  },
  {
   "cell_type": "markdown",
   "metadata": {},
   "source": [
    "## residual inter-exceedance intervals\n",
    "$\\chi_j=\\int_{T_j}^{T_{j+1}}\\tau(s,u)ds=\\tau_0(T_{j+1}-T_{j})+\\frac{\\psi}{\\gamma}\\sum_{i=1}^{j}c(x_{T_i})e^{\\gamma T_i}(e^{-\\gamma T_j}-e^{-\\gamma T_{j+1}})$"
   ]
  },
  {
   "cell_type": "code",
   "execution_count": 4,
   "metadata": {},
   "outputs": [],
   "source": [
    "def interval(tau0,psi,gamma,delta,df):\n",
    "    return df['sum2'] * psi / gamma + tau0 * (df['time'].shift(-1)-df['time'])"
   ]
  },
  {
   "cell_type": "markdown",
   "metadata": {},
   "source": [
    "## residual marks\n",
    "$m_j=-\\frac{1}{\\xi}\\log(1+\\frac{X_{T_j}-u}{\\beta+\\alpha v(T_j)})$"
   ]
  },
  {
   "cell_type": "code",
   "execution_count": 23,
   "metadata": {},
   "outputs": [],
   "source": [
    "def mark(xi,beta,alpha,df,col_name):\n",
    "    df['m'] = np.log(1+df[col_name]/(beta+alpha*df['v']))/xi\n",
    "    return df['m'].values"
   ]
  },
  {
   "cell_type": "code",
   "execution_count": 26,
   "metadata": {},
   "outputs": [],
   "source": [
    "ma = mark(xi=pg[4],beta=pg[3],alpha=pg[2],df=df,col_name='eth')"
   ]
  },
  {
   "cell_type": "code",
   "execution_count": 27,
   "metadata": {},
   "outputs": [
    {
     "data": {
      "text/plain": [
       "array([2.93483860e-01, 2.50043581e+00, 3.76168397e-02, 1.62408069e+00,\n",
       "       2.09211593e-01, 2.85387221e+00, 1.91172387e+00, 3.12840364e-01,\n",
       "       2.40032769e-01, 1.69384435e+00, 1.19127286e+00, 1.00292346e-01,\n",
       "       3.56101288e+00, 2.49133319e-01, 4.02623600e-02, 1.95084430e-01,\n",
       "       1.06300437e-01, 3.76902894e-01, 1.45326270e+00, 1.28918488e+00,\n",
       "       1.05446983e+00, 4.17262783e-02, 2.82700868e+00, 7.65044515e-01,\n",
       "       7.09760287e-01, 7.66598699e-01, 2.38194087e-01, 3.68001016e+00,\n",
       "       5.18626150e-01, 2.94817678e+00, 4.41527306e-01, 1.53955897e+00,\n",
       "       1.69972928e-02, 2.17203951e+00, 3.49809544e+00, 1.14092993e-03,\n",
       "       4.60405690e+00, 9.57715837e-02, 1.35700518e+00, 3.50569178e+00,\n",
       "       2.93713085e+00, 1.43925646e-01, 6.78975178e-01, 6.37557323e+00,\n",
       "       1.59223847e+00, 1.81377047e+00, 9.86729935e-01, 1.49780970e+00,\n",
       "       2.18804402e+00, 1.91952591e-01, 2.24280533e-01, 1.77402235e-01,\n",
       "       1.41287912e-01, 2.06671502e-01, 5.64057823e-01, 9.11694580e-01,\n",
       "       1.44110282e+00, 1.13180484e+00, 7.82108922e-01, 7.73528648e-01,\n",
       "       2.75610046e-01, 1.31427730e+00, 2.30778467e-01, 9.12134555e-01,\n",
       "       1.28186152e+00, 2.03803016e+00, 1.50271679e+00, 4.15206717e-01,\n",
       "       1.21922010e-01, 1.16969932e+00, 1.00732345e-01, 3.20535322e-01,\n",
       "       8.81947579e-02, 1.30304703e+00, 1.00495698e+00, 2.12077843e+00,\n",
       "       3.11621359e-01, 2.54587102e+00, 2.08814846e+00, 5.30459300e+00,\n",
       "       1.80599303e+00, 3.44793485e-01, 3.88473177e+00, 2.66874616e-01,\n",
       "       4.98962276e-01, 6.11677012e-01, 4.03192253e-01, 2.43501873e+00,\n",
       "       1.76344722e+00, 2.27708787e+00, 3.52314505e-02, 3.67643840e+00,\n",
       "       6.37503430e+00, 5.09131631e-01, 1.26699149e+00, 1.25181918e+00,\n",
       "       4.22057092e-01, 2.07738106e+00, 2.00080825e-01, 2.63532221e+00,\n",
       "       8.15283835e-03, 1.98334815e+00, 2.48872652e+00, 2.23754821e+00,\n",
       "       9.46723939e-01, 6.75976850e-01, 1.47452411e+00, 1.87978381e+00,\n",
       "       1.04220084e+00, 5.36146562e+00, 4.49586073e-01, 6.67824917e-01,\n",
       "       2.60311981e+00, 9.25942921e-01, 2.94997961e+00, 1.82053342e+00,\n",
       "       4.28913222e-01, 4.25402641e+00, 8.21850418e-01, 4.57656246e-02,\n",
       "       1.25906943e-01, 7.89052175e-01, 1.52056114e+00, 5.93492058e-01,\n",
       "       2.60534921e+00, 2.72953114e-01, 3.07122126e-01, 5.19881851e-01,\n",
       "       1.32296822e+00, 6.94733673e-01, 1.89640858e-01, 4.25341603e-01,\n",
       "       8.18518922e-02, 1.18870666e+00,            nan])"
      ]
     },
     "execution_count": 27,
     "metadata": {},
     "output_type": "execute_result"
    }
   ],
   "source": [
    "ma"
   ]
  },
  {
   "cell_type": "code",
   "execution_count": 31,
   "metadata": {},
   "outputs": [
    {
     "data": {
      "image/png": "[encoded data removed]",
      "text/plain": [
       "<Figure size 432x288 with 1 Axes>"
      ]
     },
     "execution_count": 31,
     "metadata": {},
     "output_type": "execute_result"
    },
    {
     "data": {
      "image/png": "[encoded data removed]",
      "text/plain": [
       "<Figure size 432x288 with 1 Axes>"
      ]
     },
     "metadata": {
      "needs_background": "light"
     },
     "output_type": "display_data"
    }
   ],
   "source": [
    "probplot_mark = sm.ProbPlot(ma,dist=st.expon,scale=1)\n",
    "probplot_mark.qqplot(line='45')"
   ]
  },
  {
   "cell_type": "markdown",
   "metadata": {},
   "source": [
    "## Ljung–Box test"
   ]
  },
  {
   "cell_type": "code",
   "execution_count": null,
   "metadata": {},
   "outputs": [],
   "source": []
  },
  {
   "cell_type": "markdown",
   "metadata": {},
   "source": [
    "## Kolmogorov–Smirnov test"
   ]
  },
  {
   "cell_type": "code",
   "execution_count": 9,
   "metadata": {},
   "outputs": [
    {
     "data": {
      "text/plain": [
       "Ks_2sampResult(statistic=0.048, pvalue=0.6126241113875229)"
      ]
     },
     "execution_count": 9,
     "metadata": {},
     "output_type": "execute_result"
    }
   ],
   "source": [
    "rvs1 = st.norm.rvs(loc=5,scale=10,size=500)\n",
    "rvs2 = st.norm.rvs(loc=5,scale=10,size=500)\n",
    "st.ks_2samp(rvs1,rvs2)"
   ]
  },
  {
   "cell_type": "code",
   "execution_count": null,
   "metadata": {},
   "outputs": [],
   "source": []
  },
  {
   "cell_type": "code",
   "execution_count": 10,
   "metadata": {},
   "outputs": [
    {
     "data": {
      "text/plain": [
       "Ttest_indResult(statistic=-0.9126842476239643, pvalue=0.3616290489426698)"
      ]
     },
     "execution_count": 10,
     "metadata": {},
     "output_type": "execute_result"
    }
   ],
   "source": [
    "st.ttest_ind(rvs1,rvs2)"
   ]
  },
  {
   "cell_type": "code",
   "execution_count": null,
   "metadata": {},
   "outputs": [],
   "source": []
  }
 ],
 "metadata": {
  "kernelspec": {
   "display_name": "Python 3",
   "language": "python",
   "name": "python3"
  },
  "language_info": {
   "codemirror_mode": {
    "name": "ipython",
    "version": 3
   },
   "file_extension": ".py",
   "mimetype": "text/x-python",
   "name": "python",
   "nbconvert_exporter": "python",
   "pygments_lexer": "ipython3",
   "version": "3.7.7"
  }
 },
 "nbformat": 4,
 "nbformat_minor": 4
}
